{
 "cells": [
  {
   "cell_type": "markdown",
   "metadata": {},
   "source": [
    "# Welcome to the start of your adventure in Agentic AI"
   ]
  },
  {
   "cell_type": "markdown",
   "metadata": {},
   "source": [
    "<table style=\"margin: 0; text-align: left; width:100%\">\n",
    "    <tr>\n",
    "        <td style=\"width: 150px; height: 150px; vertical-align: middle;\">\n",
    "            <img src=\"../assets/stop.png\" width=\"150\" height=\"150\" style=\"display: block;\" />\n",
    "        </td>\n",
    "        <td>\n",
    "            <h2 style=\"color:#ff7800;\">Are you ready for action??</h2>\n",
    "            <span style=\"color:#ff7800;\">Have you completed all the setup steps in the <a href=\"../setup/\">setup</a> folder?<br/>\n",
    "            Have you checked out the guides in the <a href=\"../guides/01_intro.ipynb\">guides</a> folder?<br/>\n",
    "            Well in that case, you're ready!!\n",
    "            </span>\n",
    "        </td>\n",
    "    </tr>\n",
    "</table>"
   ]
  },
  {
   "cell_type": "markdown",
   "metadata": {},
   "source": [
    "<table style=\"margin: 0; text-align: left; width:100%\">\n",
    "    <tr>\n",
    "        <td style=\"width: 150px; height: 150px; vertical-align: middle;\">\n",
    "            <img src=\"../assets/tools.png\" width=\"150\" height=\"150\" style=\"display: block;\" />\n",
    "        </td>\n",
    "        <td>\n",
    "            <h2 style=\"color:#00bfff;\">Treat these labs as a resource</h2>\n",
    "            <span style=\"color:#00bfff;\">I push updates to the code regularly. When people ask questions or have problems, I incorporate it in the code, adding more examples or improved commentary. As a result, you'll notice that the code below isn't identical to the videos. Everything from the videos is here; but in addition, I've added more steps and better explanations. Consider this like an interactive book that accompanies the lectures.\n",
    "            </span>\n",
    "        </td>\n",
    "    </tr>\n",
    "</table>"
   ]
  },
  {
   "cell_type": "markdown",
   "metadata": {},
   "source": [
    "### And please do remember to contact me if I can help\n",
    "\n",
    "And I love to connect: https://www.linkedin.com/in/eddonner/\n",
    "\n",
    "\n",
    "### New to Notebooks like this one? Head over to the guides folder!\n",
    "\n",
    "Otherwise:\n",
    "1. Click where it says \"Select Kernel\" near the top right, and select the option called `.venv (Python 3.12.9)` or similar, which should be the first choice or the most prominent choice.\n",
    "2. Click in each \"cell\" below, starting with the cell immediately below this text, and press Shift+Enter to run\n",
    "3. Enjoy!"
   ]
  },
  {
   "cell_type": "code",
   "execution_count": 15,
   "metadata": {},
   "outputs": [],
   "source": [
    "# First let's do an import\n",
    "from dotenv import load_dotenv\n"
   ]
  },
  {
   "cell_type": "code",
   "execution_count": 16,
   "metadata": {},
   "outputs": [
    {
     "data": {
      "text/plain": [
       "True"
      ]
     },
     "execution_count": 16,
     "metadata": {},
     "output_type": "execute_result"
    }
   ],
   "source": [
    "# Next it's time to load the API keys into environment variables\n",
    "\n",
    "load_dotenv(override=True)"
   ]
  },
  {
   "cell_type": "code",
   "execution_count": 17,
   "metadata": {},
   "outputs": [
    {
     "name": "stdout",
     "output_type": "stream",
     "text": [
      "base_url http://localhost:11434/v1\n",
      "api_key ollama\n",
      "model llama3.2\n"
     ]
    }
   ],
   "source": [
    "# Check the keys\n",
    "\n",
    "import os\n",
    "\n",
    "BASE_URL = os.getenv('BASE_URL')\n",
    "API_KEY = os.getenv('API_KEY')\n",
    "MODEL = os.getenv('MODEL')\n",
    "\n",
    "print('base_url', BASE_URL)\n",
    "print('api_key', API_KEY)\n",
    "print('model', MODEL)\n"
   ]
  },
  {
   "cell_type": "code",
   "execution_count": 18,
   "metadata": {},
   "outputs": [],
   "source": [
    "# And now - the all important import statement\n",
    "# If you get an import error - head over to troubleshooting guide\n",
    "\n",
    "from openai import OpenAI"
   ]
  },
  {
   "cell_type": "code",
   "execution_count": 19,
   "metadata": {},
   "outputs": [],
   "source": [
    "# And now we'll create an instance of the OpenAI class\n",
    "# If you're not sure what it means to create an instance of a class - head over to the guides folder!\n",
    "# If you get a NameError - head over to the guides folder to learn about NameErrors\n",
    "\n",
    "# openai = OpenAI()\n",
    "openai = OpenAI(\n",
    "    base_url=BASE_URL, \n",
    "    api_key=API_KEY\n",
    ")"
   ]
  },
  {
   "cell_type": "code",
   "execution_count": 20,
   "metadata": {},
   "outputs": [],
   "source": [
    "# Create a list of messages in the familiar OpenAI format\n",
    "\n",
    "messages = [{\"role\": \"user\", \"content\": \"What is 2+2?\"}]"
   ]
  },
  {
   "cell_type": "code",
   "execution_count": 21,
   "metadata": {},
   "outputs": [
    {
     "name": "stdout",
     "output_type": "stream",
     "text": [
      "2 + 2 = 4.\n"
     ]
    }
   ],
   "source": [
    "# And now call it! Any problems, head to the troubleshooting guide\n",
    "\n",
    "response = openai.chat.completions.create(\n",
    "    model=MODEL,\n",
    "    messages=messages\n",
    ")\n",
    "\n",
    "print(response.choices[0].message.content)\n"
   ]
  },
  {
   "cell_type": "code",
   "execution_count": null,
   "metadata": {},
   "outputs": [],
   "source": []
  },
  {
   "cell_type": "code",
   "execution_count": 22,
   "metadata": {},
   "outputs": [],
   "source": [
    "# And now - let's ask for a question:\n",
    "\n",
    "question = \"Please propose a hard, challenging question to assess someone's IQ. Respond only with the question.\"\n",
    "messages = [{\"role\": \"user\", \"content\": question}]\n"
   ]
  },
  {
   "cell_type": "code",
   "execution_count": 23,
   "metadata": {},
   "outputs": [
    {
     "name": "stdout",
     "output_type": "stream",
     "text": [
      "What is the least common multiple of 144 and 180 that cannot be expressed as the sum or difference of two perfect squares?\n"
     ]
    }
   ],
   "source": [
    "# ask it\n",
    "response = openai.chat.completions.create(\n",
    "    model=MODEL,\n",
    "    messages=messages\n",
    ")\n",
    "\n",
    "question = response.choices[0].message.content\n",
    "\n",
    "print(question)\n"
   ]
  },
  {
   "cell_type": "code",
   "execution_count": 24,
   "metadata": {},
   "outputs": [],
   "source": [
    "# form a new messages list\n",
    "messages = [{\"role\": \"user\", \"content\": question}]\n"
   ]
  },
  {
   "cell_type": "code",
   "execution_count": 25,
   "metadata": {},
   "outputs": [
    {
     "name": "stdout",
     "output_type": "stream",
     "text": [
      "To solve this problem, we will need to find the least common multiple (LCM) of 144 and 180.\n",
      "\n",
      "First, let's factorize each number:\n",
      "\n",
      "144 = 2^4 * 3^2\n",
      "180 = 2^2 * 3^2 * 5\n",
      "\n",
      "Now, let's find the LCM by taking the maximum power of each prime factor that appears in either number:\n",
      "\n",
      "LCM(144, 180) = 2^4 * 3^2 * 5 = 720\n",
      "\n",
      "Next, we need to check if this LCM can be expressed as the sum or difference of two perfect squares.\n",
      "\n",
      "We can start by rewriting 720 as a difference of two squares:\n",
      "\n",
      "720 = ( √(720) ) ^ 2 - (√(900)) ^ 2\n",
      "= (√(360*2)) ^ 2 - (√(300*3)) ^ 2\n",
      "= ∛(360) * (∛30) + ∛90\n",
      "= 12 * 3√5\n",
      "\n",
      "Therefore, the number that cannot be expressed as\n"
     ]
    }
   ],
   "source": [
    "# Ask it again\n",
    "\n",
    "response = openai.chat.completions.create(\n",
    "    model=MODEL,\n",
    "    messages=messages\n",
    ")\n",
    "\n",
    "answer = response.choices[0].message.content\n",
    "print(answer)\n"
   ]
  },
  {
   "cell_type": "markdown",
   "metadata": {},
   "source": [
    "# Congratulations!\n",
    "\n",
    "That was a small, simple step in the direction of Agentic AI, with your new environment!\n",
    "\n",
    "Next time things get more interesting..."
   ]
  },
  {
   "cell_type": "markdown",
   "metadata": {},
   "source": [
    "<table style=\"margin: 0; text-align: left; width:100%\">\n",
    "    <tr>\n",
    "        <td style=\"width: 150px; height: 150px; vertical-align: middle;\">\n",
    "            <img src=\"../assets/exercise.png\" width=\"150\" height=\"150\" style=\"display: block;\" />\n",
    "        </td>\n",
    "        <td>\n",
    "            <h2 style=\"color:#ff7800;\">Exercise</h2>\n",
    "            <span style=\"color:#ff7800;\">Now try this commercial application:<br/>\n",
    "            First ask the LLM to pick a business area that might be worth exploring for an Agentic AI opportunity.<br/>\n",
    "            Then ask the LLM to present a pain-point in that industry - something challenging that might be ripe for an Agentic solution.<br/>\n",
    "            Finally have 3 third LLM call propose the Agentic AI solution.\n",
    "            </span>\n",
    "        </td>\n",
    "    </tr>\n",
    "</table>"
   ]
  },
  {
   "cell_type": "code",
   "execution_count": 26,
   "metadata": {},
   "outputs": [
    {
     "name": "stdout",
     "output_type": "stream",
     "text": [
      "Here's a business area that might be worth exploring for an Agentic AI opportunity:\n",
      "\n",
      "**Medical Diagnosis and Treatment Monitoring**\n",
      "\n",
      "With the increasing complexity of medical conditions, hospitals and healthcare systems are struggling to keep up with the volume of patient data. This is where Agentic AI can step in.\n",
      "\n",
      "Agentic AI can help analyze vast amounts of medical data, identify patterns, and make predictions about patient outcomes. An agentic AI system could:\n",
      "\n",
      "1. Analyze medical imaging reports, lab results, and clinical notes to identify potential health issues.\n",
      "2. Provide personalized treatment recommendations based on a patient's unique genetic profile, medical history, and lifestyle factors.\n",
      "3. Predict the likelihood of complications or hospital readmissions for high-risk patients.\n",
      "4. Suggest preventive measures to reduce the risk of chronic diseases.\n",
      "\n",
      "This approach can help healthcare professionals:\n",
      "\n",
      "1. Reduce time spent manually reviewing patient data\n",
      "2. Improve diagnosis accuracy\n",
      "3. Optimize treatment plans\n",
      "4. Enhance patient outcomes\n",
      "\n",
      "Potential use cases include:\n",
      "\n",
      "* Early detection and prevention of chronic diseases\n",
      "* Personalized medicine for rare genetic disorders\n",
      "* Advanced surgical planning and navigation\n",
      "* Predictive analytics for hospital resource allocation\n",
      "\n",
      "Some existing technologies and platforms that might be worth exploring for an Agentic AI opportunity in this space include:\n",
      "\n",
      "1. Healthcare informatics platforms (e.g., Epic, Cerner)\n",
      "2. Medical imaging analysis software (e.g., MRI analysis with Google Health)\n",
      "3. Natural language processing (NLP) libraries for clinical text analysis\n",
      "4. Genetic sequencing and genomic analysis resources\n",
      "\n",
      "**Challenges and Opportunities**\n",
      "\n",
      "While Agentic AI holds great promise in medical diagnosis and treatment monitoring, there are challenges to be addressed:\n",
      "\n",
      "1. Integration of diverse data sources (e.g., imaging, genetic, and clinical)\n",
      "2. Regulatory compliance with HIPAA and other laws\n",
      "3. Ensuring Explainable AI (XAI) for transparent decision-making\n",
      "4. Addressing bias and fairness in algorithmic predictions\n",
      "\n",
      "However, the opportunities are also significant:\n",
      "\n",
      "1. Improved patient outcomes through personalized treatment\n",
      "2. Increased efficiency and reduced administrative burdens for healthcare professionals\n",
      "3. Enhanced collaboration between clinicians and data analysts\n",
      "4. Development of new business models centered on Agentic AI solutions for healthcare.\n"
     ]
    }
   ],
   "source": [
    "# First create the messages:\n",
    "\n",
    "messages = [{\"role\": \"user\", \"content\": \"Pick an bussiness area that might be worth exploring for an Agentic AI opportunity\"}]\n",
    "\n",
    "# Then make the first call:\n",
    "\n",
    "response = openai.chat.completions.create(\n",
    "    model=MODEL, \n",
    "    messages=messages\n",
    ")\n",
    "\n",
    "# Then read the business idea:\n",
    "\n",
    "business_idea = response.choices[0].message.content\n",
    "print(business_idea)\n",
    "\n",
    "# And repeat!"
   ]
  },
  {
   "cell_type": "markdown",
   "metadata": {},
   "source": []
  }
 ],
 "metadata": {
  "kernelspec": {
   "display_name": ".venv (3.12.3)",
   "language": "python",
   "name": "python3"
  },
  "language_info": {
   "codemirror_mode": {
    "name": "ipython",
    "version": 3
   },
   "file_extension": ".py",
   "mimetype": "text/x-python",
   "name": "python",
   "nbconvert_exporter": "python",
   "pygments_lexer": "ipython3",
   "version": "3.12.3"
  }
 },
 "nbformat": 4,
 "nbformat_minor": 2
}
